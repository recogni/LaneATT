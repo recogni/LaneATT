{
 "cells": [
  {
   "cell_type": "code",
   "execution_count": null,
   "metadata": {},
   "outputs": [],
   "source": [
    "import sys\n",
    "sys.path.insert(0, \"/home/vincentmayer/repos/LaneATT\")\n",
    "from lib.config import Config\n",
    "\n",
    "cfg = Config(\"/home/vincentmayer/repos/LaneATT/cfgs/laneatt_tusimple_resnet122.yml\")\n",
    "model = cfg.get_model()\n"
   ]
  },
  {
   "cell_type": "code",
   "execution_count": null,
   "metadata": {},
   "outputs": [],
   "source": [
    "model.draw_anchors(640, 360, k=10)"
   ]
  }
 ],
 "metadata": {
  "interpreter": {
   "hash": "99d31cd1e50764d1d7b4b4b4df7fbdb00ed385192a5cb4b7a8ba4b788ebff5f0"
  },
  "kernelspec": {
   "display_name": "Python 3.8.13 ('laneatt')",
   "language": "python",
   "name": "python3"
  },
  "language_info": {
   "codemirror_mode": {
    "name": "ipython",
    "version": 3
   },
   "file_extension": ".py",
   "mimetype": "text/x-python",
   "name": "python",
   "nbconvert_exporter": "python",
   "pygments_lexer": "ipython3",
   "version": "3.8.13"
  },
  "orig_nbformat": 4
 },
 "nbformat": 4,
 "nbformat_minor": 2
}
